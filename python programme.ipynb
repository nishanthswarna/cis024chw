{
 "cells": [
  {
   "cell_type": "code",
   "execution_count": null,
   "metadata": {},
   "outputs": [
    {
     "name": "stdout",
     "output_type": "stream",
     "text": [
      "                                                  \n",
      "                                                  \n",
      "               SCRABBLE CHALLENGE                 \n",
      "                                                  \n",
      "                                                  \n",
      "\n",
      "\n",
      "                 M A M E W D C\n",
      "                 3 1 3 1 4 2 3\n"
     ]
    }
   ],
   "source": [
    "\n",
    "\n",
    "\n",
    "from random import randint\n",
    "letterVal= {\"A\":1,\"B\":3,\"C\":3,\"D\":2,\"E\":1,\"F\":4,\"G\":2,\"H\":4,\"I\":1,\"J\":8,\"K\":5,\"L\":1,\"M\":3,\"N\":1,\"O\":1,\"P\":3,\"Q\":10,\"R\":1,\"S\":1,\"T\":1,\"U\":1,\"V\":4,\"W\":4,\"X\":8,\"Y\":4,\"Z\":10}\n",
    "randomLetters = []\n",
    "linex =[]\n",
    "for i in range (0,7):\n",
    "    randomLetter=chr(randint(65,90))\n",
    "    randomLetters.append(randomLetter)\n",
    "print(\"                                                  \")\n",
    "print(\"                                                  \")\n",
    "print(\"               SCRABBLE CHALLENGE                 \")\n",
    "print(\"                                                  \")\n",
    "print(\"                                                  \")\n",
    "print(\"\\n\")\n",
    "\n",
    "\n",
    "line1 = \"\"\n",
    "line2 = \"\"\n",
    "\n",
    "for letter in randomLetters:\n",
    "    linex.append(letter)\n",
    "    line1=line1 +\" \"+ letter\n",
    "    line2=line2 +\" \"+str(letterVal[letter])\n",
    "\n",
    "print(\"               \"), line1\n",
    "print(\"               \"), line2\n",
    "\n",
    "wordans = raw_input(\"use the letters to create a word: \").upper()\n",
    "words = list(wordans)\n",
    "\n",
    "# This is input validation to make sure user entered correct characters\n",
    "con = 1\n",
    "score = 0\n",
    "for i in range(len(words)):\n",
    "    if words[i] not in linex:\n",
    "        con = 0\n",
    "    else:\n",
    "        linex.remove(words[i])\n",
    "        score = score + letterVal[words[i]]\n",
    "\n",
    "if con == 1:\n",
    "    dictionaryFile = open('dictionary.txt')\n",
    "    englishWords = {}\n",
    "    for word in dictionaryFile.read().split('\\n'):\n",
    "        englishWords[word] = None\n",
    "        dictionaryFile.close()\n",
    "        \n",
    "    if wordans in englishWords.keys():\n",
    "        print \"Score is\", score \n",
    "    else:\n",
    "        print \"This is not a valid English word\"\n",
    "else:\n",
    "    print \"The word is not from the letter list \"\n",
    "      \n",
    "\n",
    "\n",
    "  \n",
    "\n",
    "\n",
    "\n",
    "\n"
   ]
  },
  {
   "cell_type": "code",
   "execution_count": null,
   "metadata": {},
   "outputs": [],
   "source": [
    "\n",
    "\n"
   ]
  },
  {
   "cell_type": "code",
   "execution_count": null,
   "metadata": {},
   "outputs": [],
   "source": []
  },
  {
   "cell_type": "code",
   "execution_count": null,
   "metadata": {},
   "outputs": [],
   "source": []
  }
 ],
 "metadata": {
  "kernelspec": {
   "display_name": "Python 2",
   "language": "python",
   "name": "python2"
  },
  "language_info": {
   "codemirror_mode": {
    "name": "ipython",
    "version": 2
   },
   "file_extension": ".py",
   "mimetype": "text/x-python",
   "name": "python",
   "nbconvert_exporter": "python",
   "pygments_lexer": "ipython2",
   "version": "2.7.14"
  }
 },
 "nbformat": 4,
 "nbformat_minor": 2
}
