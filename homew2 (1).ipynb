{
 "cells": [
  {
   "cell_type": "markdown",
   "metadata": {},
   "source": [
    "\n",
    "# CIS024C - Spring 2018 - Monday 5:30-9:25pm\n",
    "\n",
    "## Homework 2\n",
    "\n",
    "Homework 2 covers exercises in Conditionals and Repetition. It involves the user of the if..elif..else statements and the for/while loops.\n",
    "\n",
    "You will need to download this notebook and use this as a starting point for your homework. You will just need to fill in the content of each code-block (cell) and execute. Once you have completed all the exercises, you will need to save and upload this to your github repository under a folder called hw2.\n",
    "\n",
    "Note also the exercises build on top of one another so you might be able to do the next exercise if you have not completed the previous exercise.\n",
    "\n",
    "Post any questions you have on our Slack at **cis-024c1.slack.com**\n",
    "\n",
    "<h3><font color='red'>\n",
    "ALL THE WORK THAT WE DID IN CLASS DURING WEEK 2 IS NOW IN GITHUB AT THE BELOW LINK\n",
    "</font></h3>\n",
    "\n",
    "https://github.com/cis024c/spring2018classwork/blob/master/week2/week2_classwork.ipynb\n",
    "\n",
    "\n",
    "\n",
    "**Please refer back to hw1 and slack for instructions on how to setup your computer for developing using Python.**"
   ]
  },
  {
   "cell_type": "markdown",
   "metadata": {},
   "source": [
    "### Helpful Jupyter Commands\n",
    "\n",
    "Below are some useful commands to know when using Jupyter\n",
    "\n",
    "1. You can add a new cell by clicking on the \"+\" icon on top.\n",
    "2. You can delete a cell by selecting that cell and clicking on the \"scissors\" icon on top.\n",
    "3. You can execute a cell by either pressing shift+enter or selecting the \"play\" button on top.\n",
    "4. You can create a new file in Jupyter via the File menu->New Notebook option. Make sure to select Python 2 when creating your notebook.\n",
    "5. Also, for your code blocks make sure that Code is selected instead of another option like Markdown.\n",
    "6. Use the Enter key to go to the next line in a cell to enter the next statement.\n",
    "7. You can clear results by clicking on the Cell menu item and selecting Current Output->Clear or All Output->Clear depending on whether you are trying to just clear the output for one cell or for all cells.\n",
    "8. In case your program has crashed for some reason (infinite loop, for example), you can restart your Python session by select Kernel in the menu and selecting Restart.\n"
   ]
  },
  {
   "cell_type": "markdown",
   "metadata": {},
   "source": [
    "#### Check Python Version"
   ]
  },
  {
   "cell_type": "code",
   "execution_count": 13,
   "metadata": {},
   "outputs": [
    {
     "name": "stdout",
     "output_type": "stream",
     "text": [
      "Python 2.7.12 :: Continuum Analytics, Inc.\r\n"
     ]
    }
   ],
   "source": [
    "!python --version"
   ]
  },
  {
   "cell_type": "markdown",
   "metadata": {},
   "source": [
    "#### Sample Exercises with conditionals and repetitions\n",
    "\n",
    "Refer to Week 2 classwork 2 for sample exercises - https://github.com/cis024c/spring2018classwork/blob/master/week2/week2_classwork.ipynb"
   ]
  },
  {
   "cell_type": "markdown",
   "metadata": {},
   "source": [
    "#### Exercise 1 - if statement\n",
    "\n",
    "Write a python program to accept a number from the user. Use the **if** statement to check to see if the number is greater than 100. If the number is greater than 100, print the message \"Found a number greater than 100\""
   ]
  },
  {
   "cell_type": "code",
   "execution_count": 4,
   "metadata": {},
   "outputs": [
    {
     "name": "stdout",
     "output_type": "stream",
     "text": [
      "pick a number: 200\n",
      "Found number greater than 100\n"
     ]
    }
   ],
   "source": [
    "### YOUR CODE GOES \n",
    "number = int(raw_input(\"pick a number: \"))\n",
    "if number>100:\n",
    "    print(\"Found number greater than 100\")\n",
    "\n",
    "### END CODE"
   ]
  },
  {
   "cell_type": "markdown",
   "metadata": {},
   "source": [
    "#### Exercise 2 - if...else statement\n",
    "\n",
    "Write a python program to accept the name of a user. Use the **if** statement to check to see if the name is \"Joe\". If the name is \"Joe\", print the message \"User Joe was entered\", otherwise if the name is not \"Joe\", print a message saying that \"User Joe was not entered\" "
   ]
  },
  {
   "cell_type": "code",
   "execution_count": 12,
   "metadata": {},
   "outputs": [
    {
     "name": "stdout",
     "output_type": "stream",
     "text": [
      "what is your name sam\n",
      "user joe has not entered\n"
     ]
    }
   ],
   "source": [
    "### YOUR CODE GOES BELOW\n",
    "name = raw_input(\"what is your name \")\n",
    "if name == \"joe\" :\n",
    "    print\"user joe has entered\"\n",
    "else:\n",
    "    print\"user joe has not entered\"\n",
    "\n",
    "### END CODE"
   ]
  },
  {
   "cell_type": "markdown",
   "metadata": {},
   "source": [
    "#### Exercise 3 - if..elif...else statement\n",
    "\n",
    "Write a python program to accept the salary of the user. \n",
    "\n",
    "If the salary is **less than 70,000**, then print the message \"User salary is less than 70000\", otherwise if the salary is **less than 100,000**, print the message \"User salary is less than 100,000, otherwise, print the message \"User salary is greater than or equal to 100,000\""
   ]
  },
  {
   "cell_type": "code",
   "execution_count": 17,
   "metadata": {},
   "outputs": [
    {
     "name": "stdout",
     "output_type": "stream",
     "text": [
      "what is your salary: 500000\n",
      "salary is greater than 100000\n"
     ]
    }
   ],
   "source": [
    "### YOUR CODE GOES BELOW\n",
    "salary = int(raw_input(\"what is your salary: \"))\n",
    "if salary<70000:\n",
    "    print \"salary is lesser than 70000\"\n",
    "if salary<100000:\n",
    "    print\"salary is lesser than 100000\"\n",
    "elif salary>100000:\n",
    "    print\"salary is greater than 100000\"\n",
    "\n",
    "### END CODE"
   ]
  },
  {
   "cell_type": "markdown",
   "metadata": {},
   "source": [
    "#### Exercise 4 - for loop\n",
    "\n",
    "Write a program to get a number from the user. Find the some of all numbers from 1 to the number that the user entered.\n",
    "\n",
    "For example, if the user enters 10, then you would need to find the sum of all numbers from 1 to 10 like so. Use the range statement in the for loop...see week 2 classwork for more information on the range statement\n",
    "\n",
    "\n",
    "```\n",
    "1+2+3+4+5+6+7+8+9+10\n",
    "```\n",
    "\n",
    "Print the result"
   ]
  },
  {
   "cell_type": "code",
   "execution_count": 46,
   "metadata": {},
   "outputs": [
    {
     "name": "stdout",
     "output_type": "stream",
     "text": [
      "pick a number: 50\n",
      "total is 1\n",
      "total is 3\n",
      "total is 6\n",
      "total is 10\n",
      "total is 15\n",
      "total is 21\n",
      "total is 28\n",
      "total is 36\n",
      "total is 45\n",
      "total is 55\n",
      "total is 66\n",
      "total is 78\n",
      "total is 91\n",
      "total is 105\n",
      "total is 120\n",
      "total is 136\n",
      "total is 153\n",
      "total is 171\n",
      "total is 190\n",
      "total is 210\n",
      "total is 231\n",
      "total is 253\n",
      "total is 276\n",
      "total is 300\n",
      "total is 325\n",
      "total is 351\n",
      "total is 378\n",
      "total is 406\n",
      "total is 435\n",
      "total is 465\n",
      "total is 496\n",
      "total is 528\n",
      "total is 561\n",
      "total is 595\n",
      "total is 630\n",
      "total is 666\n",
      "total is 703\n",
      "total is 741\n",
      "total is 780\n",
      "total is 820\n",
      "total is 861\n",
      "total is 903\n",
      "total is 946\n",
      "total is 990\n",
      "total is 1035\n",
      "total is 1081\n",
      "total is 1128\n",
      "total is 1176\n",
      "total is 1225\n"
     ]
    }
   ],
   "source": [
    "### YOUR CODE GOES BELOW\n",
    "numbersum = 0\n",
    "beginning_number = 1\n",
    "ending_number = int(raw_input(\"pick a number: \"))\n",
    "number = beginning_number\n",
    "while number < ending_number:\n",
    "    numbersum = numbersum + number\n",
    "    number = number + 1\n",
    "    print\"total is\", numbersum\n",
    "\n",
    "\n",
    "### END CODE"
   ]
  },
  {
   "cell_type": "markdown",
   "metadata": {},
   "source": [
    "#### Exercise - while loop\n",
    "\n",
    "**Guessing a number.**\n",
    "\n",
    "Initialize a variable called **myNumber** to any arbitrary value. For example, maybe you thought of a number 9\n",
    "\n",
    "Use the **while** loop to ask the user to enter a number. Check to see if the number entered by the user matches the number **myNumber** that you thought of. If there is a match, **break** from the **while** loop and print \"Yippee! User guessed the right number\". If there is no match allow the **while** loop to continue to ask the user for a number until a match is found\n"
   ]
  },
  {
   "cell_type": "code",
   "execution_count": 27,
   "metadata": {},
   "outputs": [
    {
     "name": "stdout",
     "output_type": "stream",
     "text": [
      "pick a number between 1 to 10: 6\n",
      "pick a number between 1 to 10: 7\n",
      "pick a number between 1 to 10: 8\n",
      "pick a number between 1 to 10: 9\n",
      "YIPPEE you guessed the correct number\n"
     ]
    }
   ],
   "source": [
    "### YOUR CODE GOES BELOW\n",
    "mynumber = 9\n",
    "while True:\n",
    "    yournumber = int(raw_input(\"pick a number between 1 to 10: \"))\n",
    "    if yournumber==mynumber:\n",
    "        print\"YIPPEE you guessed the correct number\"\n",
    "        break\n",
    "\n",
    "\n",
    "\n",
    "\n",
    "### END CODE"
   ]
  },
  {
   "cell_type": "markdown",
   "metadata": {},
   "source": [
    "## OPTIONAL EXERCISES\n",
    "\n",
    "Below is a set of optional exercises. These will not be graded but the solutions will be posted. I would strongly encourage you to try these out if you are done with the mandatory homework exercises to improve your understanding of python."
   ]
  },
  {
   "cell_type": "markdown",
   "metadata": {},
   "source": [
    "#### Exercise 6\n",
    "\n",
    "Write a Python program to convert temperatures to and from celsius, fahrenheit.\n",
    "\n",
    "[ Formula : c/5 = f-32/9 [ where c = temperature in celsius and f = temperature in fahrenheit ] "
   ]
  },
  {
   "cell_type": "code",
   "execution_count": 2,
   "metadata": {},
   "outputs": [
    {
     "name": "stdout",
     "output_type": "stream",
     "text": [
      "choose 1 for f to c, choose 2 for c to f: 1\n",
      "please enter the temperature in farenheit: 100\n",
      "the temperature is 37 C\n"
     ]
    }
   ],
   "source": [
    "### YOUR CODE GOES BELOW\n",
    "\n",
    "choice = int(raw_input(\"choose 1 for f to c, choose 2 for c to f: \"))\n",
    "if choice == 1:\n",
    "        fc = int(raw_input(\"please enter the temperature in farenheit: \"))\n",
    "        x = ((fc-32)*5/9)\n",
    "        print\"the temperature is\", x,\"C\"\n",
    "elif choice == 2:\n",
    "        cf = int(raw_input(\"please the temperature in celcius: \"))\n",
    "        y = ((cf/5)*9)+32\n",
    "        print\"the temperature is\", y,\"F\"\n",
    "\n",
    "\n",
    "    \n",
    "\n",
    "### END CODE"
   ]
  },
  {
   "cell_type": "markdown",
   "metadata": {},
   "source": [
    "#### Exercise 7\n",
    "\n",
    "Write a Python program that prints all the numbers from 0 to 10 except 1 and 5. Use the **for** loop"
   ]
  },
  {
   "cell_type": "code",
   "execution_count": 42,
   "metadata": {},
   "outputs": [
    {
     "name": "stdout",
     "output_type": "stream",
     "text": [
      "2\n",
      "3\n",
      "4\n",
      "6\n",
      "7\n",
      "8\n",
      "9\n",
      "10\n"
     ]
    }
   ],
   "source": [
    "### YOUR CODE GOES BELOW\n",
    "\n",
    "numbers=range(1,11)\n",
    "for count in numbers:\n",
    "    if count<>1 and count<>5:\n",
    "        print count\n",
    "\n",
    "    \n",
    "\n",
    "\n",
    "### END CODE"
   ]
  },
  {
   "cell_type": "markdown",
   "metadata": {},
   "source": [
    "#### Exercise 8\n",
    "\n",
    "Write a Python program that reads two integers representing a month and day and prints the season for that month and day. Refer to this URL https://www.timeanddate.com/calendar/aboutseasons.html for when a season starts and ends in North America (Northern Meteorological Seasons)"
   ]
  },
  {
   "cell_type": "code",
   "execution_count": 45,
   "metadata": {},
   "outputs": [
    {
     "name": "stdout",
     "output_type": "stream",
     "text": [
      "give me the day: 4\n",
      "give the month: 4\n",
      "spring\n"
     ]
    }
   ],
   "source": [
    "### YOUR CODE GOES BELOW\n",
    "month=int(raw_input(\"give the month: \"))\n",
    "if month == 3 or month == 4 or month == 5:\n",
    "    print\"spring\"\n",
    "elif month == 6 or month == 7 or month == 8:\n",
    "    print\"summer\"\n",
    "elif month == 9 or month == 10 or month == 11:\n",
    "    print\"fall\"\n",
    "elif month == 12 or month == 1 or month == 2:\n",
    "    print\"winter\"\n",
    "    \n",
    "    \n",
    "\n",
    "\n",
    "\n",
    "### END CODE"
   ]
  },
  {
   "cell_type": "markdown",
   "metadata": {},
   "source": [
    "#### Exercise 9\n",
    "\n",
    "Use a **while** loop to ask the user to enter a number. Print a running total of all the numbers that the user enters. If the user enters 0, break from the while loop."
   ]
  },
  {
   "cell_type": "code",
   "execution_count": 52,
   "metadata": {},
   "outputs": [
    {
     "name": "stdout",
     "output_type": "stream",
     "text": [
      "enter a number: 1\n",
      "1\n",
      "enter a number: 3\n",
      "4\n",
      "enter a number: 5\n",
      "9\n",
      "enter a number: 3\n",
      "12\n",
      "enter a number: 9\n",
      "21\n",
      "enter a number: 0\n",
      "21\n"
     ]
    }
   ],
   "source": [
    "### YOUR CODE GOES BELOW\n",
    "runningtotal=0\n",
    "while True:\n",
    "    yournumber = int(raw_input(\"enter a number: \"))\n",
    "    if yournumber==0:\n",
    "        print runningtotal\n",
    "        break\n",
    "    elif yournumber<>0:\n",
    "        runningtotal=runningtotal+yournumber\n",
    "        print runningtotal\n",
    "        \n",
    "    \n",
    "\n",
    "\n",
    "### END CODE"
   ]
  },
  {
   "cell_type": "markdown",
   "metadata": {},
   "source": [
    "##### Exercise 10\n",
    "\n",
    "Write a Python program to create the multiplication table (from 1 to 10) of a number. Use the formatted print statements that you learnt in Week 2 and the **for** loop to print this table.\n",
    "\n",
    "Input a number: 6                                                       \n",
    "6 x 1 = 6                                                               \n",
    "6 x 2 = 12                                                              \n",
    "6 x 3 = 18                                                              \n",
    "6 x 4 = 24                                                              \n",
    "6 x 5 = 30                                                              \n",
    "6 x 6 = 36                                                              \n",
    "6 x 7 = 42                                                              \n",
    "6 x 8 = 48                                                              \n",
    "6 x 9 = 54                                                              \n",
    "6 x 10 = 60 "
   ]
  },
  {
   "cell_type": "code",
   "execution_count": 54,
   "metadata": {},
   "outputs": [
    {
     "name": "stdout",
     "output_type": "stream",
     "text": [
      "input a number8\n",
      "8  X  1 = 8\n",
      "8  X  2 = 16\n",
      "8  X  3 = 24\n",
      "8  X  4 = 32\n",
      "8  X  5 = 40\n",
      "8  X  6 = 48\n",
      "8  X  7 = 56\n",
      "8  X  8 = 64\n",
      "8  X  9 = 72\n",
      "8  X  10 = 80\n"
     ]
    }
   ],
   "source": [
    "### YOUR CODE GOES BELOW\n",
    "number=int(raw_input(\"input a number\"))\n",
    "multi=range(1,11)\n",
    "for count in multi:\n",
    "    print number,\" X \",count,\"=\",count*number\n",
    "### END CODE"
   ]
  },
  {
   "cell_type": "code",
   "execution_count": null,
   "metadata": {
    "collapsed": true
   },
   "outputs": [],
   "source": []
  }
 ],
 "metadata": {
  "kernelspec": {
   "display_name": "Python 2",
   "language": "python",
   "name": "python2"
  },
  "language_info": {
   "codemirror_mode": {
    "name": "ipython",
    "version": 2
   },
   "file_extension": ".py",
   "mimetype": "text/x-python",
   "name": "python",
   "nbconvert_exporter": "python",
   "pygments_lexer": "ipython2",
   "version": "2.7.14"
  }
 },
 "nbformat": 4,
 "nbformat_minor": 2
}
