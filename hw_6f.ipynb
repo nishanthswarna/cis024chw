{
 "cells": [
  {
   "cell_type": "markdown",
   "metadata": {},
   "source": [
    "\n",
    "# CIS024C - Spring 2018 - Monday 5:30-9:25pm \n",
    "\n",
    "## Homework 6\n",
    "\n",
    "Homework 6 covers exercises that involve working with functions\n",
    "\n",
    "The below sites have some interesting and useful information on working with files\n",
    "\n",
    "https://www.learnpython.org/en/Functions\n",
    "https://www.tutorialspoint.com/python/python_functions.htm\n",
    "\n",
    "You will need to download this notebook and use this as a starting point for your homework. You will just need to fill in the content of each code-block (cell) and execute. Once you have completed all the exercises, you will need to save and upload this to your github repository under a folder called hw5.\n",
    "\n",
    "Note also the exercises build on top of one another so you might be able to do the next exercise if you have not completed the previous exercise.\n",
    "\n",
    "Post any questions you have on our Slack at **cis-024c1.slack.com**\n",
    "\n",
    "** Slides ** for Week 6 can be found at \n",
    "\n",
    "https://docs.google.com/presentation/d/1XGV2NR0ZAAmQYjlRuy81zzlW2g5lWS8L6a7iRV-lreQ/edit?usp=sharing\n",
    "\n",
    "**Please refer back to hw1 and slack for instructions on how to setup your computer for developing using Python.**"
   ]
  },
  {
   "cell_type": "markdown",
   "metadata": {},
   "source": [
    "### Helpful Jupyter Commands\n",
    "\n",
    "Below are some useful commands to know when using Jupyter\n",
    "\n",
    "1. You can add a new cell by clicking on the \"+\" icon on top.\n",
    "2. You can delete a cell by selecting that cell and clicking on the \"scissors\" icon on top.\n",
    "3. You can execute a cell by either pressing shift+enter or selecting the \"play\" button on top.\n",
    "4. You can create a new file in Jupyter via the File menu->New Notebook option. Make sure to select Python 2 when creating your notebook.\n",
    "5. Also, for your code blocks make sure that Code is selected instead of another option like Markdown.\n",
    "6. Use the Enter key to go to the next line in a cell to enter the next statement.\n",
    "7. You can clear results by clicking on the Cell menu item and selecting Current Output->Clear or All Output->Clear depending on whether you are trying to just clear the output for one cell or for all cells.\n",
    "8. In case your program has crashed for some reason (infinite loop, for example), you can restart your Python session by select Kernel in the menu and selecting Restart.\n"
   ]
  },
  {
   "cell_type": "markdown",
   "metadata": {},
   "source": [
    "#### Check Python Version"
   ]
  },
  {
   "cell_type": "code",
   "execution_count": 4,
   "metadata": {},
   "outputs": [
    {
     "name": "stdout",
     "output_type": "stream",
     "text": [
      "Python 2.7.12 :: Continuum Analytics, Inc.\n",
      "\n"
     ]
    }
   ],
   "source": [
    "!python --version"
   ]
  },
  {
   "cell_type": "markdown",
   "metadata": {},
   "source": [
    "#### Sample Exercises with Functions\n",
    "\n",
    "Refer to Week 6 slides for a recap of what happened in Week 6\n",
    "\n",
    "https://docs.google.com/presentation/d/1XGV2NR0ZAAmQYjlRuy81zzlW2g5lWS8L6a7iRV-lreQ/edit?usp=sharing"
   ]
  },
  {
   "cell_type": "markdown",
   "metadata": {},
   "source": [
    "**Exercise 1 - Testing your knowledge of functions **\n",
    "\n",
    "Answer the below questions\n",
    "\n",
    "1. What is a function in Python?\n",
    "2. What are the advantages of using functions?\n",
    "\n",
    "# 1. functions are blocks of re-usable code.\n",
    "\n",
    "# 2. It helps reduce duplication of code and helps Decomposing complex problems into simpler pieces."
   ]
  },
  {
   "cell_type": "markdown",
   "metadata": {},
   "source": [
    "<< Double click this cell and enter your result >>"
   ]
  },
  {
   "cell_type": "markdown",
   "metadata": {},
   "source": [
    "#### Exercise 2 -  Max of three numbers\n",
    "\n",
    "Write a Python function to find the Max of three numbers.\n",
    "\n",
    "Make sure you invoke this function in your main program and display the result"
   ]
  },
  {
   "cell_type": "code",
   "execution_count": 8,
   "metadata": {},
   "outputs": [
    {
     "name": "stdout",
     "output_type": "stream",
     "text": [
      "('The max of', [100, 121, 324], 'is', 324)\n",
      "('The max of', [343, 3241, 12314], 'is', 12314)\n"
     ]
    }
   ],
   "source": [
    "### YOUR CODE GOES \n",
    "\n",
    "def maxofthree(a,b,c):\n",
    "    a1 = []\n",
    "    a1.append(a)\n",
    "    a1.append(b)\n",
    "    a1.append(c)\n",
    "    a1.sort()\n",
    "    return 'The max of', a1, 'is', a1[2]\n",
    "\n",
    "print  maxofthree(100,324,121)\n",
    "print maxofthree(12314,343,3241)\n",
    "\n",
    "\n",
    "\n",
    "\n",
    "    \n",
    "    \n",
    "    \n",
    "    \n",
    "        \n",
    "    \n",
    "    \n",
    "\n",
    "\n",
    "\n",
    "### END CODE"
   ]
  },
  {
   "cell_type": "markdown",
   "metadata": {},
   "source": [
    "#### Exercise 3 - Finding the sum of numbers in a list\n",
    "\n",
    "Write a Python function to sum all the numbers in a list\n",
    "\n",
    "Make sure you invoke this function in your main program and display the result"
   ]
  },
  {
   "cell_type": "code",
   "execution_count": 33,
   "metadata": {},
   "outputs": [
    {
     "name": "stdout",
     "output_type": "stream",
     "text": [
      "('The sum of the list', [123, 43, 4, 3, 2], ' is ', 175)\n"
     ]
    }
   ],
   "source": [
    "### YOUR CODE GOES BELOW\n",
    "def sumof(a):\n",
    "    return \"The sum of the list\" , a , \" is \" , sum(a)\n",
    "print sumof([123,43,4,3,2])\n",
    "\n",
    "### END CODE"
   ]
  },
  {
   "cell_type": "markdown",
   "metadata": {},
   "source": [
    "#### Exercise 4 - Finding the product of numbers in a list\n",
    "\n",
    "Write a Python function to multiply all the numbers in a list\n",
    "\n",
    "Make sure you invoke this function in your main program and display the result"
   ]
  },
  {
   "cell_type": "code",
   "execution_count": 32,
   "metadata": {},
   "outputs": [
    {
     "name": "stdout",
     "output_type": "stream",
     "text": [
      "('the product of elements of list ', [1, 2, 4, 4, 56], ' is ', 1792)\n",
      "('the product of elements of list ', [3, 2, 4, 2, 4, 2, 2, 0], ' is ', 0)\n"
     ]
    }
   ],
   "source": [
    "### YOUR CODE GOES BELOW\n",
    "def multiply(a):\n",
    "    total = 1\n",
    "    for i in range(len(a)):\n",
    "        total = total * a[i]\n",
    "    return \"the product of elements of list \", a, \" is \",  total\n",
    "\n",
    "print multiply([1,2,4,4,56])\n",
    "print multiply([3,2,4,2,4,2,2,0])\n",
    "   \n",
    "\n",
    "### END CODE"
   ]
  },
  {
   "cell_type": "markdown",
   "metadata": {},
   "source": [
    "#### Exercise 5 - Reversing a String\n",
    "\n",
    "Write a Python function to reverse a string\n",
    "\n",
    "Make sure you invoke this function in your main program and display the result"
   ]
  },
  {
   "cell_type": "code",
   "execution_count": 41,
   "metadata": {},
   "outputs": [
    {
     "name": "stdout",
     "output_type": "stream",
     "text": [
      "('The reverse of the word ', 'nishanth', ' is ', 'htnahsin')\n",
      "('The reverse of the word ', 'malayalam', ' is ', 'malayalam')\n"
     ]
    }
   ],
   "source": [
    "### YOUR CODE GOES BELOW\n",
    "def reverse(a):\n",
    "    \n",
    "    return \"The reverse of the word \" , a , \" is \" , a[::-1]\n",
    "\n",
    "print reverse(\"nishanth\")\n",
    "print reverse(\"malayalam\")\n",
    "\n",
    "### END CODE"
   ]
  },
  {
   "cell_type": "markdown",
   "metadata": {},
   "source": [
    "## OPTIONAL EXERCISES\n",
    "\n",
    "Below is a set of optional exercises. These will not be graded but the solutions will be posted. I would strongly encourage you to try these out if you are done with the mandatory homework exercises to improve your understanding of python."
   ]
  },
  {
   "cell_type": "markdown",
   "metadata": {},
   "source": [
    "#### Exercise 6\n",
    "\n",
    "Write a Python function that accepts a string and calculate the number of upper case letters and lower case letters.\n",
    "\n",
    "Make sure you invoke this function in your main program and display the result"
   ]
  },
  {
   "cell_type": "code",
   "execution_count": 6,
   "metadata": {
    "collapsed": true
   },
   "outputs": [],
   "source": [
    "### YOUR CODE GOES BELOW\n",
    "\n",
    "\n",
    "### END CODE"
   ]
  },
  {
   "cell_type": "markdown",
   "metadata": {},
   "source": [
    "#### Exercise 7\n",
    "\n",
    " Write a Python function to print the even numbers from a given list..\n",
    " \n",
    " Make sure you invoke this function in your main program and display the result"
   ]
  },
  {
   "cell_type": "code",
   "execution_count": 7,
   "metadata": {
    "collapsed": true
   },
   "outputs": [],
   "source": [
    "### YOUR CODE GOES BELOW\n",
    "\n",
    "\n",
    "### END CODE"
   ]
  },
  {
   "cell_type": "markdown",
   "metadata": {},
   "source": [
    "#### Exercise 8\n",
    "\n",
    "Write a Python function that checks whether a passed string is palindrome or not.\n",
    "\n",
    "Make sure you invoke this function in your main program and display the result"
   ]
  },
  {
   "cell_type": "code",
   "execution_count": 13,
   "metadata": {
    "collapsed": true
   },
   "outputs": [],
   "source": [
    "### YOUR CODE GOES BELOW\n",
    "\n",
    "\n",
    "### END CODE"
   ]
  },
  {
   "cell_type": "markdown",
   "metadata": {
    "collapsed": true
   },
   "source": [
    "#### Exercise 9\n",
    "\n",
    "Write a recursive Python program to compute the fibonnaci number for a given index.\n",
    "\n",
    "This is what a fibonacci series is https://www.mathsisfun.com/numbers/fibonacci-sequence.html\n",
    "\n",
    "Make sure you invoke this function in your main program and display the result"
   ]
  },
  {
   "cell_type": "code",
   "execution_count": 14,
   "metadata": {
    "collapsed": true
   },
   "outputs": [],
   "source": [
    "### YOUR CODE GOES BELOW\n",
    "\n",
    "\n",
    "### END CODE"
   ]
  },
  {
   "cell_type": "markdown",
   "metadata": {},
   "source": [
    "#### Exercise 10\n",
    "\n",
    "Write a python program to autocorrect user input using the edit distance method. \n",
    "\n",
    "Make sure you invoke this function in your main program and display the result"
   ]
  },
  {
   "cell_type": "code",
   "execution_count": null,
   "metadata": {
    "collapsed": true
   },
   "outputs": [],
   "source": [
    "### YOUR CODE GOES BELOW\n",
    "\n",
    "\n",
    "### END CODE"
   ]
  }
 ],
 "metadata": {
  "kernelspec": {
   "display_name": "Python 2",
   "language": "python",
   "name": "python2"
  },
  "language_info": {
   "codemirror_mode": {
    "name": "ipython",
    "version": 2
   },
   "file_extension": ".py",
   "mimetype": "text/x-python",
   "name": "python",
   "nbconvert_exporter": "python",
   "pygments_lexer": "ipython2",
   "version": "2.7.14"
  }
 },
 "nbformat": 4,
 "nbformat_minor": 2
}
